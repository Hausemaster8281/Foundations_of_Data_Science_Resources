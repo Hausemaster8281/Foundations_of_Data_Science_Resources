{
 "cells": [
  {
   "cell_type": "code",
   "execution_count": 1,
   "id": "53d1ff9a-36f4-4bb6-acb3-565138a44b66",
   "metadata": {},
   "outputs": [
    {
     "ename": "TypeError",
     "evalue": "AdaBoostClassifier.__init__() got an unexpected keyword argument 'base_estimator'",
     "output_type": "error",
     "traceback": [
      "\u001b[31m---------------------------------------------------------------------------\u001b[39m",
      "\u001b[31mTypeError\u001b[39m                                 Traceback (most recent call last)",
      "\u001b[36mCell\u001b[39m\u001b[36m \u001b[39m\u001b[32mIn[1]\u001b[39m\u001b[32m, line 42\u001b[39m\n\u001b[32m     32\u001b[39m preprocessor = ColumnTransformer(  \n\u001b[32m     33\u001b[39m     transformers=[  \n\u001b[32m     34\u001b[39m         (\u001b[33m'\u001b[39m\u001b[33mnum\u001b[39m\u001b[33m'\u001b[39m, \u001b[33m'\u001b[39m\u001b[33mpassthrough\u001b[39m\u001b[33m'\u001b[39m, num_cols),  \n\u001b[32m     35\u001b[39m         (\u001b[33m'\u001b[39m\u001b[33mcat\u001b[39m\u001b[33m'\u001b[39m, OneHotEncoder(), cat_cols)  \n\u001b[32m     36\u001b[39m     ])  \n\u001b[32m     38\u001b[39m \u001b[38;5;66;03m# Create full pipeline  \u001b[39;00m\n\u001b[32m     39\u001b[39m pipeline = Pipeline(  \n\u001b[32m     40\u001b[39m     steps=[  \n\u001b[32m     41\u001b[39m         (\u001b[33m'\u001b[39m\u001b[33mpreprocessor\u001b[39m\u001b[33m'\u001b[39m, preprocessor),  \n\u001b[32m---> \u001b[39m\u001b[32m42\u001b[39m         (\u001b[33m'\u001b[39m\u001b[33mclassifier\u001b[39m\u001b[33m'\u001b[39m, \u001b[43mAdaBoostClassifier\u001b[49m\u001b[43m(\u001b[49m\u001b[43m  \u001b[49m\n\u001b[32m     43\u001b[39m \u001b[43m            \u001b[49m\u001b[43mbase_estimator\u001b[49m\u001b[43m=\u001b[49m\u001b[43mDecisionTreeClassifier\u001b[49m\u001b[43m(\u001b[49m\u001b[43mmax_depth\u001b[49m\u001b[43m=\u001b[49m\u001b[32;43m1\u001b[39;49m\u001b[43m)\u001b[49m\u001b[43m,\u001b[49m\u001b[43m  \u001b[49m\n\u001b[32m     44\u001b[39m \u001b[43m            \u001b[49m\u001b[43mn_estimators\u001b[49m\u001b[43m=\u001b[49m\u001b[32;43m50\u001b[39;49m\u001b[43m,\u001b[49m\u001b[43m  \u001b[49m\n\u001b[32m     45\u001b[39m \u001b[43m            \u001b[49m\u001b[43mlearning_rate\u001b[49m\u001b[43m=\u001b[49m\u001b[32;43m0.1\u001b[39;49m\u001b[43m  \u001b[49m\n\u001b[32m     46\u001b[39m \u001b[43m        \u001b[49m\u001b[43m)\u001b[49m)  \n\u001b[32m     47\u001b[39m     ])  \n\u001b[32m     49\u001b[39m \u001b[38;5;66;03m# Split data  \u001b[39;00m\n\u001b[32m     50\u001b[39m X_train, X_test, y_train, y_test = train_test_split(X, y, test_size=\u001b[32m0.2\u001b[39m, random_state=\u001b[32m42\u001b[39m)  \n",
      "\u001b[31mTypeError\u001b[39m: AdaBoostClassifier.__init__() got an unexpected keyword argument 'base_estimator'"
     ]
    }
   ],
   "source": [
    "import pandas as pd  \n",
    "from sklearn.model_selection import train_test_split  \n",
    "from sklearn.ensemble import AdaBoostClassifier  \n",
    "from sklearn.tree import DecisionTreeClassifier  \n",
    "from sklearn.metrics import accuracy_score, roc_auc_score, f1_score  \n",
    "from sklearn.impute import SimpleImputer  \n",
    "from sklearn.preprocessing import OneHotEncoder  \n",
    "from sklearn.compose import ColumnTransformer  \n",
    "from sklearn.pipeline import Pipeline  \n",
    "\n",
    "# Load dataset  \n",
    "url = 'https://archive.ics.uci.edu/ml/machine-learning-databases/adult/adult.data'  \n",
    "column_names = ['age', 'workclass', 'fnlwgt', 'education', 'education_num', 'marital_status',  \n",
    "               'occupation', 'relationship', 'race', 'sex', 'capital_gain', 'capital_loss',  \n",
    "               'hours_per_week', 'native_country', 'income']  \n",
    "data = pd.read_csv(url, header=None, names=column_names, na_values='?')  \n",
    "\n",
    "# Preprocess data  \n",
    "# Drop NA values for simplicity (can impute in real cases)  \n",
    "data = data.dropna()  \n",
    "\n",
    "# Split features and target  \n",
    "X = data.drop('income', axis=1)  \n",
    "y = (data['income'] == ' >50K').astype(int)  # Binary classification  \n",
    "\n",
    "# Define categorical and numerical columns  \n",
    "cat_cols = ['workclass', 'education', 'marital_status', 'occupation',  \n",
    "            'relationship', 'race', 'sex', 'native_country']  \n",
    "num_cols = ['age', 'fnlwgt', 'education_num', 'capital_gain', 'capital_loss', 'hours_per_week']  \n",
    "\n",
    "# Create preprocessing pipeline  \n",
    "preprocessor = ColumnTransformer(  \n",
    "    transformers=[  \n",
    "        ('num', 'passthrough', num_cols),  \n",
    "        ('cat', OneHotEncoder(), cat_cols)  \n",
    "    ])  \n",
    "\n",
    "# Create full pipeline  \n",
    "pipeline = Pipeline(  \n",
    "    steps=[  \n",
    "        ('preprocessor', preprocessor),  \n",
    "        ('classifier', AdaBoostClassifier(  \n",
    "            base_estimator=DecisionTreeClassifier(max_depth=1),  \n",
    "            n_estimators=50,  \n",
    "            learning_rate=0.1  \n",
    "        ))  \n",
    "    ])  \n",
    "\n",
    "# Split data  \n",
    "X_train, X_test, y_train, y_test = train_test_split(X, y, test_size=0.2, random_state=42)  \n",
    "\n",
    "# Train model  \n",
    "pipeline.fit(X_train, y_train)  \n",
    "\n",
    "# Evaluate  \n",
    "y_pred = pipeline.predict(X_test)  \n",
    "y_proba = pipeline.predict_proba(X_test)[:, 1]  \n",
    "\n",
    "print(f\"Accuracy: {accuracy_score(y_test, y_pred):.4f}\")  \n",
    "print(f\"AUC-ROC: {roc_auc_score(y_test, y_proba):.4f}\")  \n",
    "print(f\"F1-Score: {f1_score(y_test, y_pred):.4f}\")"
   ]
  },
  {
   "cell_type": "code",
   "execution_count": null,
   "id": "b820a36b-a8f6-4965-a485-a6166cbbdc3e",
   "metadata": {},
   "outputs": [],
   "source": []
  }
 ],
 "metadata": {
  "kernelspec": {
   "display_name": "Python 3 (ipykernel)",
   "language": "python",
   "name": "python3"
  },
  "language_info": {
   "codemirror_mode": {
    "name": "ipython",
    "version": 3
   },
   "file_extension": ".py",
   "mimetype": "text/x-python",
   "name": "python",
   "nbconvert_exporter": "python",
   "pygments_lexer": "ipython3",
   "version": "3.12.3"
  }
 },
 "nbformat": 4,
 "nbformat_minor": 5
}
