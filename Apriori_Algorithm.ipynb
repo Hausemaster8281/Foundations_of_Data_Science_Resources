{
 "cells": [
  {
   "cell_type": "code",
   "execution_count": 5,
   "id": "6ce7bb1a-7133-4a93-895e-787977346dae",
   "metadata": {},
   "outputs": [
    {
     "name": "stdout",
     "output_type": "stream",
     "text": [
      "Encoded Transactions:\n",
      "   01-01-2014  01-01-2015  01-02-2014  01-02-2015  01-03-2014  01-03-2015  \\\n",
      "0       False       False       False       False       False       False   \n",
      "1       False       False       False       False       False       False   \n",
      "2       False       False       False       False       False       False   \n",
      "3       False       False       False       False       False       False   \n",
      "4       False       False       False       False       False       False   \n",
      "\n",
      "   01-04-2014  01-04-2015  01-05-2014  01-05-2015  ...  turkey  vinegar  \\\n",
      "0       False       False       False       False  ...   False    False   \n",
      "1       False       False       False       False  ...   False    False   \n",
      "2       False       False       False       False  ...   False    False   \n",
      "3       False       False       False       False  ...   False    False   \n",
      "4       False       False       False       False  ...   False    False   \n",
      "\n",
      "   waffles  whipped/sour cream  whisky  white bread  white wine  whole milk  \\\n",
      "0    False               False   False        False       False       False   \n",
      "1    False               False   False        False       False       False   \n",
      "2    False               False   False        False       False        True   \n",
      "3    False               False   False        False       False       False   \n",
      "4    False               False   False        False       False       False   \n",
      "\n",
      "   yogurt  zwieback  \n",
      "0   False     False  \n",
      "1   False     False  \n",
      "2   False     False  \n",
      "3   False     False  \n",
      "4   False     False  \n",
      "\n",
      "[5 rows x 4796 columns]\n"
     ]
    }
   ],
   "source": [
    "import pandas as pd\n",
    "from mlxtend.preprocessing import TransactionEncoder\n",
    "from mlxtend.frequent_patterns import apriori, association_rules\n",
    "\n",
    "# Load dataset\n",
    "df = pd.read_csv(\"Groceries_dataset.csv\", header=None)\n",
    "\n",
    "# Convert transactions into a list of lists\n",
    "transactions = []\n",
    "for i in range(len(df)):\n",
    "    transactions.append([str(df.values[i, j]) for j in range(len(df.columns)) if str(df.values[i, j]) != 'nan'])\n",
    "\n",
    "# One-hot encode transactions\n",
    "te = TransactionEncoder()\n",
    "te_ary = te.fit(transactions).transform(transactions)\n",
    "df_encoded = pd.DataFrame(te_ary, columns=te.columns_)\n",
    "\n",
    "print(\"Encoded Transactions:\")\n",
    "print(df_encoded.head())"
   ]
  },
  {
   "cell_type": "code",
   "execution_count": 6,
   "id": "022636a7-56dc-46a7-90fc-001f50ea8b46",
   "metadata": {},
   "outputs": [
    {
     "name": "stdout",
     "output_type": "stream",
     "text": [
      "\n",
      "Frequent Itemsets:\n",
      "    support         itemsets\n",
      "0  0.013311           (beef)\n",
      "1  0.017722   (bottled beer)\n",
      "2  0.024067  (bottled water)\n",
      "3  0.014729    (brown bread)\n",
      "4  0.013775         (butter)\n"
     ]
    }
   ],
   "source": [
    "frequent_itemsets = apriori(df_encoded, min_support=0.01, use_colnames=True)\n",
    "\n",
    "print(\"\\nFrequent Itemsets:\")\n",
    "print(frequent_itemsets.head())"
   ]
  },
  {
   "cell_type": "code",
   "execution_count": 7,
   "id": "ad9e4fe2-d304-4900-ab17-88800ce4b36d",
   "metadata": {},
   "outputs": [
    {
     "name": "stdout",
     "output_type": "stream",
     "text": [
      "\n",
      "Association Rules:\n",
      "Empty DataFrame\n",
      "Columns: [antecedents, consequents, antecedent support, consequent support, support, confidence, lift, representativity, leverage, conviction, zhangs_metric, jaccard, certainty, kulczynski]\n",
      "Index: []\n"
     ]
    }
   ],
   "source": [
    "# Generate association rules with min_threshold=0.5 (50% confidence)\n",
    "rules = association_rules(frequent_itemsets, metric=\"confidence\", min_threshold=0.5)\n",
    "\n",
    "print(\"\\nAssociation Rules:\")\n",
    "print(rules.head())"
   ]
  },
  {
   "cell_type": "code",
   "execution_count": 8,
   "id": "6709e21a-a863-4b96-a946-0ffad1e54e50",
   "metadata": {},
   "outputs": [
    {
     "name": "stdout",
     "output_type": "stream",
     "text": [
      "\n",
      "Strong Association Rules:\n",
      "Empty DataFrame\n",
      "Columns: [antecedents, consequents, support, confidence, lift]\n",
      "Index: []\n"
     ]
    }
   ],
   "source": [
    "strong_rules = rules[(rules['lift'] > 1.5) & (rules['confidence'] > 0.6)]\n",
    "\n",
    "print(\"\\nStrong Association Rules:\")\n",
    "print(strong_rules[['antecedents', 'consequents', 'support', 'confidence', 'lift']])"
   ]
  }
 ],
 "metadata": {
  "kernelspec": {
   "display_name": "Python 3 (ipykernel)",
   "language": "python",
   "name": "python3"
  },
  "language_info": {
   "codemirror_mode": {
    "name": "ipython",
    "version": 3
   },
   "file_extension": ".py",
   "mimetype": "text/x-python",
   "name": "python",
   "nbconvert_exporter": "python",
   "pygments_lexer": "ipython3",
   "version": "3.12.3"
  }
 },
 "nbformat": 4,
 "nbformat_minor": 5
}
