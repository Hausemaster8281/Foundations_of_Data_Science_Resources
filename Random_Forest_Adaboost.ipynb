{
 "cells": [
  {
   "cell_type": "code",
   "execution_count": 2,
   "id": "2c1465b9-82d7-41d8-8e4b-174a54903a3d",
   "metadata": {},
   "outputs": [
    {
     "name": "stdout",
     "output_type": "stream",
     "text": [
      "Random Forest Accuracy: 0.9649\n",
      "Confusion Matrix (RF):\n",
      " [[40  3]\n",
      " [ 1 70]]\n",
      "\n",
      "AdaBoost Accuracy: 0.9649\n",
      "Confusion Matrix (AdaBoost):\n",
      " [[40  3]\n",
      " [ 1 70]]\n",
      "\n",
      "Top 5 Important Features (RF):\n",
      " worst area              0.164545\n",
      "worst concave points    0.158464\n",
      "mean concave points     0.111305\n",
      "worst radius            0.078391\n",
      "worst perimeter         0.073372\n",
      "dtype: float64\n"
     ]
    }
   ],
   "source": [
    "import numpy as np\n",
    "import pandas as pd\n",
    "from sklearn.datasets import load_breast_cancer\n",
    "from sklearn.model_selection import train_test_split\n",
    "from sklearn.ensemble import RandomForestClassifier, AdaBoostClassifier\n",
    "from sklearn.metrics import accuracy_score, confusion_matrix\n",
    "\n",
    "# Load dataset\n",
    "data = load_breast_cancer()\n",
    "X, y = data.data, data.target\n",
    "X_train, X_test, y_train, y_test = train_test_split(X, y, test_size=0.2, random_state=42)\n",
    "\n",
    "# Random Forest\n",
    "rf = RandomForestClassifier(n_estimators=100, max_depth=3, random_state=42)\n",
    "rf.fit(X_train, y_train)\n",
    "rf_pred = rf.predict(X_test)\n",
    "rf_acc = accuracy_score(y_test, rf_pred)\n",
    "print(f\"Random Forest Accuracy: {rf_acc:.4f}\")\n",
    "print(\"Confusion Matrix (RF):\\n\", confusion_matrix(y_test, rf_pred))\n",
    "\n",
    "# AdaBoost\n",
    "ada = AdaBoostClassifier(n_estimators=50, learning_rate=1.0, random_state=42)\n",
    "ada.fit(X_train, y_train)\n",
    "ada_pred = ada.predict(X_test)\n",
    "ada_acc = accuracy_score(y_test, ada_pred)\n",
    "print(f\"\\nAdaBoost Accuracy: {ada_acc:.4f}\")\n",
    "print(\"Confusion Matrix (AdaBoost):\\n\", confusion_matrix(y_test, ada_pred))\n",
    "\n",
    "# Feature Importance (Random Forest)\n",
    "importance = pd.Series(rf.feature_importances_, index=data.feature_names)\n",
    "print(\"\\nTop 5 Important Features (RF):\\n\", importance.nlargest(5))"
   ]
  },
  {
   "cell_type": "code",
   "execution_count": null,
   "id": "32771092-1477-42d7-b9a7-747ecfba5122",
   "metadata": {},
   "outputs": [],
   "source": []
  }
 ],
 "metadata": {
  "kernelspec": {
   "display_name": "Python 3 (ipykernel)",
   "language": "python",
   "name": "python3"
  },
  "language_info": {
   "codemirror_mode": {
    "name": "ipython",
    "version": 3
   },
   "file_extension": ".py",
   "mimetype": "text/x-python",
   "name": "python",
   "nbconvert_exporter": "python",
   "pygments_lexer": "ipython3",
   "version": "3.12.3"
  }
 },
 "nbformat": 4,
 "nbformat_minor": 5
}
